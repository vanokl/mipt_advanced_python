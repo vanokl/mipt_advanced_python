{
 "cells": [
  {
   "cell_type": "markdown",
   "metadata": {},
   "source": [
    "# Задание 1"
   ]
  },
  {
   "cell_type": "code",
   "execution_count": 37,
   "metadata": {},
   "outputs": [
    {
     "name": "stdout",
     "output_type": "stream",
     "text": [
      "The Moscow Times - Wednesday, October 2, 2002\n",
      "The Guardian - Friday, 11.10.13\n",
      "Daily News - Thursday, 18 August 1977\n"
     ]
    }
   ],
   "source": [
    "from datetime import datetime, timedelta\n",
    "\n",
    "\n",
    "#datetime.datetime(year, month, day, hour=0, minute=0, second=0, microsecond=0, tzinfo=None)\n",
    "\n",
    "\n",
    "print(datetime(2002, 10, 2).strftime(\"The Moscow Times - %A, %B %#d, %Y\"))\n",
    "\n",
    "print(datetime(2013, 10, 11).strftime(\"The Guardian - %A, %d.%m.%y\"))\n",
    "\n",
    "print(datetime(1977, 8, 18).strftime(\"Daily News - %A, %#d %B %Y\"))\n",
    "\n"
   ]
  },
  {
   "cell_type": "markdown",
   "metadata": {},
   "source": [
    "# Задание 2 "
   ]
  },
  {
   "cell_type": "code",
   "execution_count": 42,
   "metadata": {},
   "outputs": [],
   "source": [
    "def date_range(start_date, end_date):\n",
    "\n",
    "    try:\n",
    "        start = datetime.strptime(start_date, \"%Y-%m-%d\")\n",
    "        end = datetime.strptime(end_date, \"%Y-%m-%d\")\n",
    "\n",
    "        if start > end:\n",
    "            return []\n",
    "        \n",
    "        dates = []\n",
    "        current_dt = start\n",
    "\n",
    "        while current_dt <= end:\n",
    "            dates.append(current_dt.strftime('%Y-%m-%d'))\n",
    "            current_dt += timedelta(days=1)\n",
    "\n",
    "        return dates\n",
    "\n",
    "    except:\n",
    "        return []\n",
    "\n",
    "\n",
    "\n"
   ]
  },
  {
   "cell_type": "code",
   "execution_count": 44,
   "metadata": {},
   "outputs": [
    {
     "name": "stdout",
     "output_type": "stream",
     "text": [
      "['2022-01-01', '2022-01-02', '2022-01-03']\n",
      "[]\n",
      "[]\n"
     ]
    }
   ],
   "source": [
    "print(date_range('2022-01-01', '2022-01-03'))\n",
    "\n",
    "print(date_range('2022-01-03', '2022-01-01'))\n",
    "\n",
    "print(date_range('2022-02-30', '2022-02-31'))\n"
   ]
  }
 ],
 "metadata": {
  "kernelspec": {
   "display_name": "Python 3",
   "language": "python",
   "name": "python3"
  },
  "language_info": {
   "codemirror_mode": {
    "name": "ipython",
    "version": 3
   },
   "file_extension": ".py",
   "mimetype": "text/x-python",
   "name": "python",
   "nbconvert_exporter": "python",
   "pygments_lexer": "ipython3",
   "version": "3.10.0"
  },
  "orig_nbformat": 4
 },
 "nbformat": 4,
 "nbformat_minor": 2
}
