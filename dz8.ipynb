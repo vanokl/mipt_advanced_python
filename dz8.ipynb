{
 "cells": [
  {
   "cell_type": "code",
   "execution_count": 25,
   "metadata": {},
   "outputs": [],
   "source": [
    "import numpy as np"
   ]
  },
  {
   "cell_type": "markdown",
   "metadata": {},
   "source": [
    "# Задание 1"
   ]
  },
  {
   "cell_type": "code",
   "execution_count": 65,
   "metadata": {},
   "outputs": [],
   "source": [
    "def define_prize(number):\n",
    "     \n",
    "    prize_numbers = {\n",
    "        777: 200,\n",
    "        999: 100,\n",
    "        555: 50,\n",
    "        333: 15,\n",
    "        111: 10\n",
    "    }\n",
    "\n",
    "    if number in prize_numbers:\n",
    "        return prize_numbers[number]\n",
    "    elif number % 100 == 77:\n",
    "        return 5\n",
    "    elif number % 10 == 7:\n",
    "        return 3\n",
    "    elif number % 100 == 0:\n",
    "        return 2\n",
    "    elif number % 10 == 0:\n",
    "        return 1\n",
    "    else:\n",
    "        return 0\n",
    "     \n",
    "\n",
    "def casino_machine():\n",
    "    \n",
    "    lotery_number = np.random.randint(0, 1000)\n",
    "    prize = define_prize(lotery_number)\n",
    "    return lotery_number, prize"
   ]
  },
  {
   "cell_type": "code",
   "execution_count": 66,
   "metadata": {},
   "outputs": [
    {
     "name": "stdout",
     "output_type": "stream",
     "text": [
      "Приз составил: 800680\n",
      "Потрачено: 1000000\n",
      "Заработок -199320\n"
     ]
    }
   ],
   "source": [
    "trials = 1_000_000\n",
    "\n",
    "cumm_prize = 0\n",
    "spent = 1 * trials\n",
    "\n",
    "for i in range(trials):\n",
    "    number, prize = casino_machine()\n",
    "    cumm_prize += prize\n",
    "\n",
    "\n",
    "print(f\"Приз составил: {cumm_prize}\")\n",
    "print(f\"Потрачено: {spent}\")\n",
    "print(f\"Заработок {cumm_prize - spent}\")"
   ]
  },
  {
   "cell_type": "markdown",
   "metadata": {},
   "source": [
    "Играть в автомат не выгодно"
   ]
  },
  {
   "cell_type": "code",
   "execution_count": 73,
   "metadata": {},
   "outputs": [
    {
     "name": "stdout",
     "output_type": "stream",
     "text": [
      "Игрок в среднем теряет за 1 игру -0.199 рубля\n"
     ]
    }
   ],
   "source": [
    "print(f\"Игрок в среднем теряет за 1 игру {round((cumm_prize - spent) / trials, 3)} рубля\")"
   ]
  },
  {
   "cell_type": "markdown",
   "metadata": {},
   "source": [
    "# Задание 2"
   ]
  },
  {
   "cell_type": "code",
   "execution_count": 74,
   "metadata": {},
   "outputs": [
    {
     "name": "stdout",
     "output_type": "stream",
     "text": [
      "-0.155\n"
     ]
    }
   ],
   "source": [
    "# Теоритическое матожидание выигрыша\n",
    "mx =  1/1000*200 + 1/1000*100 + 1/1000*50 + 1/1000*15 + 1/1000*10 + 10/1000*5 + 100/1000*3 + 10/1000*2 + 100/1000*1 - 1\n",
    "print(round(mx, 4))"
   ]
  }
 ],
 "metadata": {
  "kernelspec": {
   "display_name": "Python 3",
   "language": "python",
   "name": "python3"
  },
  "language_info": {
   "codemirror_mode": {
    "name": "ipython",
    "version": 3
   },
   "file_extension": ".py",
   "mimetype": "text/x-python",
   "name": "python",
   "nbconvert_exporter": "python",
   "pygments_lexer": "ipython3",
   "version": "3.10.0"
  },
  "orig_nbformat": 4
 },
 "nbformat": 4,
 "nbformat_minor": 2
}
