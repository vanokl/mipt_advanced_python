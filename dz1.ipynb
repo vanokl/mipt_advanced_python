{
 "cells": [
  {
   "cell_type": "markdown",
   "metadata": {},
   "source": [
    "#  Задание 1"
   ]
  },
  {
   "cell_type": "code",
   "execution_count": 56,
   "metadata": {},
   "outputs": [],
   "source": [
    "import json\n",
    "\n",
    "purchases = dict()\n",
    "with open('purchase_log.txt', 'r', encoding='utf-8') as f:\n",
    "    _ = f.readline()                                                        \n",
    "    for line in f:\n",
    "        row = json.loads(line)\n",
    "        purchases[row['user_id']] = row['category']"
   ]
  },
  {
   "cell_type": "code",
   "execution_count": 57,
   "metadata": {},
   "outputs": [
    {
     "name": "stdout",
     "output_type": "stream",
     "text": [
      "1840e0b9d4 'Продукты'\n",
      "4e4f90fcfb 'Электроника'\n"
     ]
    }
   ],
   "source": [
    "# проверка результата\n",
    "for ind, (user_id, category) in enumerate(purchases.items()):\n",
    "    if ind == 2:\n",
    "        break\n",
    "    print(f\"{user_id} '{category}'\")\n"
   ]
  },
  {
   "cell_type": "markdown",
   "metadata": {},
   "source": [
    " # Задание 2"
   ]
  },
  {
   "cell_type": "code",
   "execution_count": 58,
   "metadata": {},
   "outputs": [],
   "source": [
    "with open('visit_log.csv', 'r', encoding='utf-8') as f:\n",
    "    with open('funnel.csv', 'w', encoding='utf-8') as funnel_f:\n",
    "\n",
    "        _ = f.readline()\n",
    "        funnel_f.write(\"user_id,source,category\\n\")\n",
    "\n",
    "        for line in f:\n",
    "\n",
    "            cols = line.split(',')\n",
    "            user_id = cols[0].strip()\n",
    "            source = cols[1].strip()\n",
    "\n",
    "            if user_id in purchases:\n",
    "                purchase = purchases[user_id]\n",
    "                funnel_f.write(f\"{user_id},{source},{purchase}\\n\")\n"
   ]
  },
  {
   "cell_type": "code",
   "execution_count": 59,
   "metadata": {},
   "outputs": [
    {
     "name": "stdout",
     "output_type": "stream",
     "text": [
      "user_id,source,category\n",
      "1840e0b9d4,other,Продукты\n",
      "4e4f90fcfb,context,Электроника\n"
     ]
    }
   ],
   "source": [
    "# проверка результата\n",
    "with open('funnel.csv', 'r', encoding='utf-8') as f:\n",
    "\n",
    "    for ind, line in enumerate(f):\n",
    "        if ind == 3:\n",
    "            break\n",
    "        print(line.strip())\n"
   ]
  }
 ],
 "metadata": {
  "kernelspec": {
   "display_name": "Python 3",
   "language": "python",
   "name": "python3"
  },
  "language_info": {
   "codemirror_mode": {
    "name": "ipython",
    "version": 3
   },
   "file_extension": ".py",
   "mimetype": "text/x-python",
   "name": "python",
   "nbconvert_exporter": "python",
   "pygments_lexer": "ipython3",
   "version": "3.10.0"
  },
  "orig_nbformat": 4
 },
 "nbformat": 4,
 "nbformat_minor": 2
}
